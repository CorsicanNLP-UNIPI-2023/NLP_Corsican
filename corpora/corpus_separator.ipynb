{
 "cells": [
  {
   "cell_type": "code",
   "execution_count": 1,
   "id": "a495542f",
   "metadata": {},
   "outputs": [],
   "source": [
    "import glob\n",
    "from bs4 import BeautifulSoup as bs\n",
    "import re\n",
    "import os"
   ]
  },
  {
   "cell_type": "code",
   "execution_count": 2,
   "id": "2aa3e7ac",
   "metadata": {},
   "outputs": [],
   "source": [
    "list_xml = []\n",
    "\n",
    "for file in glob.glob(\"*.xml\"):\n",
    "    list_xml.append(file)"
   ]
  },
  {
   "cell_type": "code",
   "execution_count": 9,
   "id": "dbba13f3",
   "metadata": {},
   "outputs": [],
   "source": [
    "def corpus_separator(xml):\n",
    "    \n",
    "    myre = r'(\\w+)'\n",
    "    \n",
    "    if re.search(myre, xml):\n",
    "        fol_name = re.search(myre, xml).group(1)\n",
    "    \n",
    "    os.mkdir(fol_name)\n",
    "        \n",
    "    content = []\n",
    "    with open(xml, \"r\") as file:\n",
    "        content = file.readlines()\n",
    "    content = \"\".join(content)\n",
    "    soup = bs(content, \"xml\")\n",
    "    \n",
    "    tag_soup = soup.find_all('TEI')\n",
    "    \n",
    "    for tei in tag_soup:\n",
    "        tit = tei.find('head').text.lower()\n",
    "        tit = re.sub(' ', '_', tit)\n",
    "        tit = re.sub(r'/', '_', tit)\n",
    "        \n",
    "        with open(f'./{fol_name}/{tit}.xml', 'w') as f:\n",
    "            f.write(tei.prettify())\n",
    "    "
   ]
  },
  {
   "cell_type": "code",
   "execution_count": 10,
   "id": "ae39d50b",
   "metadata": {},
   "outputs": [],
   "source": [
    "for i in list_xml:\n",
    "    corpus_separator(i)"
   ]
  },
  {
   "cell_type": "code",
   "execution_count": 3,
   "id": "273180f9",
   "metadata": {},
   "outputs": [],
   "source": []
  },
  {
   "cell_type": "code",
   "execution_count": 4,
   "id": "c976620e",
   "metadata": {},
   "outputs": [],
   "source": []
  },
  {
   "cell_type": "code",
   "execution_count": null,
   "id": "cd2c67ba",
   "metadata": {},
   "outputs": [],
   "source": []
  },
  {
   "cell_type": "code",
   "execution_count": null,
   "id": "f9d05f1c",
   "metadata": {},
   "outputs": [],
   "source": []
  }
 ],
 "metadata": {
  "kernelspec": {
   "display_name": "Python 3 (ipykernel)",
   "language": "python",
   "name": "python3"
  },
  "language_info": {
   "codemirror_mode": {
    "name": "ipython",
    "version": 3
   },
   "file_extension": ".py",
   "mimetype": "text/x-python",
   "name": "python",
   "nbconvert_exporter": "python",
   "pygments_lexer": "ipython3",
   "version": "3.9.13"
  }
 },
 "nbformat": 4,
 "nbformat_minor": 5
}
